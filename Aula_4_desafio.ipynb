{
 "cells": [
  {
   "cell_type": "code",
   "execution_count": 3,
   "metadata": {},
   "outputs": [],
   "source": [
    "#funcao \n",
    "#import plyer\n",
    "from plyer import notification\n",
    "from datetime import datetime\n",
    "\n",
    "datahora_agora = str(datetime.now())\n",
    "\n",
    "def alerta(nivel,base,etapa):\n",
    "    if nivel == 1:\n",
    "        notification.notify(\n",
    "            title='Alerta Baixo',\n",
    "            message=f'Falha no carregamento da base {base} na etapa {etapa}. {datahora_agora}',\n",
    "            timeout=10)\n",
    "    elif nivel == 2:\n",
    "        notification.notify(\n",
    "            title='Alerta Médio',\n",
    "            message=f'Falha no carregamento da base {base} na etapa {etapa}',\n",
    "            timeout=10)\n",
    "    elif nivel == 3:\n",
    "        notification.notify(\n",
    "            title='Alerta Alto',\n",
    "            message=f'Falha no carregamento da base {base} na etapa {etapa}',\n",
    "            timeout=10)\n",
    "    else: print('O nível deve ficar entre 1 e 3.')\n",
    "\n",
    "    \n",
    "\n",
    "#chamada\n",
    "\n",
    "alerta(nivel = 1,\n",
    "base = \"CLIENTES\",\n",
    "etapa = \"EXTRACAO\")"
   ]
  },
  {
   "cell_type": "code",
   "execution_count": 61,
   "metadata": {},
   "outputs": [],
   "source": []
  },
  {
   "cell_type": "code",
   "execution_count": null,
   "metadata": {},
   "outputs": [],
   "source": []
  }
 ],
 "metadata": {
  "kernelspec": {
   "display_name": "Python 3",
   "language": "python",
   "name": "python3"
  },
  "language_info": {
   "codemirror_mode": {
    "name": "ipython",
    "version": 3
   },
   "file_extension": ".py",
   "mimetype": "text/x-python",
   "name": "python",
   "nbconvert_exporter": "python",
   "pygments_lexer": "ipython3",
   "version": "3.12.1"
  }
 },
 "nbformat": 4,
 "nbformat_minor": 2
}
