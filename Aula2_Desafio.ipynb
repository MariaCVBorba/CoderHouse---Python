{
 "cells": [
  {
   "cell_type": "markdown",
   "metadata": {},
   "source": [
    "## Desafio Complementar\n",
    "\n",
    "*Maria Clara Vieira Borba* <br>\n",
    "*18.12.2023*"
   ]
  },
  {
   "cell_type": "markdown",
   "metadata": {},
   "source": [
    "### Atividade 1"
   ]
  },
  {
   "cell_type": "markdown",
   "metadata": {},
   "source": [
    "Escreva um programa em Python que calcule o IMC de uma pessoa. O programa deve solicitar ao usuário o peso em kg e a altura em metros e, em seguida, calcular e imprimir o valor do IMC."
   ]
  },
  {
   "cell_type": "code",
   "execution_count": 25,
   "metadata": {},
   "outputs": [
    {
     "name": "stdout",
     "output_type": "stream",
     "text": [
      "Valor do IMC:  24.51\n"
     ]
    }
   ],
   "source": [
    "peso = float(input(\"Insira seu peso (kg): \"))\n",
    "altura = float(input(\"Insira sua altura (metros): \"))\n",
    "\n",
    "imc = peso / (altura**2)\n",
    "print(\"Valor do IMC: \", round(imc,2))"
   ]
  },
  {
   "cell_type": "markdown",
   "metadata": {},
   "source": [
    "### Atividade 2"
   ]
  },
  {
   "cell_type": "markdown",
   "metadata": {},
   "source": [
    "Faça um programa que crie uma lista vazia e permita que o usuário insira 5 números inteiros na lista."
   ]
  },
  {
   "cell_type": "code",
   "execution_count": 20,
   "metadata": {},
   "outputs": [
    {
     "name": "stdout",
     "output_type": "stream",
     "text": [
      "Resultado:  ['5', '6', '7', '8', '9']\n"
     ]
    }
   ],
   "source": [
    "lista = []\n",
    "i = 0\n",
    "\n",
    "while i < 5:\n",
    "    item = input(\"Insira um número inteiro: \")\n",
    "    lista.append(item)\n",
    "    i = i + 1\n",
    "\n",
    "print(\"Resultado: \", lista)\n"
   ]
  },
  {
   "cell_type": "markdown",
   "metadata": {},
   "source": [
    "### Atividade 3"
   ]
  },
  {
   "cell_type": "markdown",
   "metadata": {},
   "source": [
    "Faça um programa que peça ao usuário para digitar uma lista de nomes separados por vírgula e transforme essa lista em uma lista de strings."
   ]
  },
  {
   "cell_type": "code",
   "execution_count": 24,
   "metadata": {},
   "outputs": [
    {
     "name": "stdout",
     "output_type": "stream",
     "text": [
      "Nomes inseridos:  maria,clara,vieira,borba\n",
      "Resultado:  ['maria', 'clara', 'vieira', 'borba']\n",
      "Type:  <class 'list'>\n"
     ]
    }
   ],
   "source": [
    "lista_nomes = input(\"Digite uma lista de nomes separados por vírgula: \")\n",
    "\n",
    "print(\"Nomes inseridos: \", lista_nomes)\n",
    "\n",
    "nova_lista = lista_nomes.split(',')\n",
    "\n",
    "print(\"Resultado: \", nova_lista)\n",
    "print(\"Type: \", type(nova_lista))"
   ]
  },
  {
   "cell_type": "code",
   "execution_count": null,
   "metadata": {},
   "outputs": [],
   "source": []
  }
 ],
 "metadata": {
  "kernelspec": {
   "display_name": "Python 3",
   "language": "python",
   "name": "python3"
  },
  "language_info": {
   "codemirror_mode": {
    "name": "ipython",
    "version": 3
   },
   "file_extension": ".py",
   "mimetype": "text/x-python",
   "name": "python",
   "nbconvert_exporter": "python",
   "pygments_lexer": "ipython3",
   "version": "3.9.6"
  }
 },
 "nbformat": 4,
 "nbformat_minor": 2
}
