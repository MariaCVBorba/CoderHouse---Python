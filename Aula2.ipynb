{
 "cells": [
  {
   "cell_type": "markdown",
   "metadata": {},
   "source": [
    "# AULA 2"
   ]
  },
  {
   "cell_type": "markdown",
   "metadata": {},
   "source": [
    "## Tipos de variáveis em Python"
   ]
  },
  {
   "cell_type": "markdown",
   "metadata": {},
   "source": [
    "- As variáveis são *case sensitive*;"
   ]
  },
  {
   "cell_type": "markdown",
   "metadata": {},
   "source": [
    "- Inteira: ```var_int = 2``` <br><br>\n",
    "  Float: ```var_float = 2.0``` <br><br> \n",
    "  String: ```var_str = \"Don`t panic\"``` <br><br>\n",
    "  Booleana: ```var_boll = True```"
   ]
  },
  {
   "cell_type": "code",
   "execution_count": 3,
   "metadata": {},
   "outputs": [],
   "source": [
    "var_int = 2\n",
    "\n",
    "var_float = 2.0\n",
    "\n",
    "var_str = \"Don`t panic\"\n",
    "\n",
    "var_bool = True"
   ]
  },
  {
   "cell_type": "markdown",
   "metadata": {},
   "source": [
    "## As principais funções e operações da linguagem"
   ]
  },
  {
   "cell_type": "markdown",
   "metadata": {},
   "source": [
    "- **type()**: função integrada que retorna o tipo de dado de um objeto;\n",
    "\n",
    "- **print()**: usada para imprimir saídas na tela. Aceita um ou mais argumentos separados por vírgula;\n",
    "\n",
    "- **input()**: usada para obter a entrada do usuário a partir do teclado;"
   ]
  },
  {
   "cell_type": "code",
   "execution_count": 5,
   "metadata": {},
   "outputs": [
    {
     "name": "stdout",
     "output_type": "stream",
     "text": [
      "Variável 1: <class 'int'>\n"
     ]
    }
   ],
   "source": [
    "print(\"Variável 1:\", type(var_int))"
   ]
  },
  {
   "cell_type": "code",
   "execution_count": 10,
   "metadata": {},
   "outputs": [
    {
     "name": "stdout",
     "output_type": "stream",
     "text": [
      "Olá Maria Clara você tem 30 anos.\n"
     ]
    }
   ],
   "source": [
    "idade = input(\"Sua idade:\")\n",
    "nome = input(\"Seu nome:\")\n",
    "\n",
    "print(f\"Olá {nome} você tem {idade} anos.\")"
   ]
  },
  {
   "cell_type": "markdown",
   "metadata": {},
   "source": [
    "Operações <br>\n",
    "\n",
    "- Atribuição: **=**\n",
    "- Adição: **+**\n",
    "- Subtração: **-**\n",
    "- Multiplicação: *\n",
    "- Divisão: **/** \n",
    "- Módulo (resto da divisão de um número pelo outro): **%**\n",
    "- Potência (eleva o primeiro número à potência do segundo): ** \n",
    "- Divisão inteira (resultado da divisão, arredondando para baixo): **//**"
   ]
  },
  {
   "cell_type": "markdown",
   "metadata": {},
   "source": [
    "## Estrutudas de dados"
   ]
  },
  {
   "cell_type": "markdown",
   "metadata": {},
   "source": [
    "- Lista(**list** - conchetes): uma lista é uma estrutura de dados mutável e ordenada que pode conter um número arbitrário de elementos de diferentes tipos. A ordem dos elementos é importante. \n",
    "\n",
    "- Dicionário (**dict** - chaves): é uma estruta de dados mutável e não ordenada que mapeia chaves a valores.\n",
    "\n",
    "- Tupla (**tuple** - parêntesis): é uma coleção imutável e ordenada de elementos. São semelhantes às listas, exceto que elas são imutáveis (seus elementos não podem ser alterados após a criação da tupla).\n",
    "\n",
    "- Set (**set** - chaves): é uma coleção mutável e não ordenada de \\_elementos únicos\\_, por isso não são acessados por sua posição, são acessados pelos valores únicos.\n",
    "\n",
    "\n",
    "- Indexação multidimencional: capacidade de acessar elementos em estruturas de dados com mais de uma dimensão e é fundamental para o processamento de dados complexos, como imagens."
   ]
  },
  {
   "cell_type": "code",
   "execution_count": 11,
   "metadata": {},
   "outputs": [
    {
     "data": {
      "text/plain": [
       "'tres'"
      ]
     },
     "execution_count": 11,
     "metadata": {},
     "output_type": "execute_result"
    }
   ],
   "source": [
    "minha_lista = [1,2.2,\"tres\",4.0]\n",
    "minha_lista[2]"
   ]
  },
  {
   "cell_type": "code",
   "execution_count": 13,
   "metadata": {},
   "outputs": [
    {
     "data": {
      "text/plain": [
       "[7, 8]"
      ]
     },
     "execution_count": 13,
     "metadata": {},
     "output_type": "execute_result"
    }
   ],
   "source": [
    "#multinível\n",
    "minha_lista2 = [5,6,[7,8]]\n",
    "minha_lista2[2]"
   ]
  },
  {
   "cell_type": "code",
   "execution_count": 14,
   "metadata": {},
   "outputs": [
    {
     "data": {
      "text/plain": [
       "[5, 6, [7, 8], 'nove']"
      ]
     },
     "execution_count": 14,
     "metadata": {},
     "output_type": "execute_result"
    }
   ],
   "source": [
    "#append\n",
    "minha_lista2.append('nove')\n",
    "minha_lista2"
   ]
  },
  {
   "cell_type": "code",
   "execution_count": 15,
   "metadata": {},
   "outputs": [
    {
     "data": {
      "text/plain": [
       "[1, 2.2, 'tres', 4.0, 5, 6, [7, 8], 'nove']"
      ]
     },
     "execution_count": 15,
     "metadata": {},
     "output_type": "execute_result"
    }
   ],
   "source": [
    "#concatenação\n",
    "lista_completa = minha_lista + minha_lista2\n",
    "lista_completa"
   ]
  },
  {
   "cell_type": "code",
   "execution_count": 16,
   "metadata": {},
   "outputs": [
    {
     "data": {
      "text/plain": [
       "[1, 2, 3, 4, 5]"
      ]
     },
     "execution_count": 16,
     "metadata": {},
     "output_type": "execute_result"
    }
   ],
   "source": [
    "#ordenação\n",
    "lista_ordenar = [5,2,1,3,4]\n",
    "lista_ordenar.sort()\n",
    "lista_ordenar"
   ]
  },
  {
   "cell_type": "code",
   "execution_count": 17,
   "metadata": {},
   "outputs": [
    {
     "data": {
      "text/plain": [
       "{'chave 1': 'valor 1', 'chave 2': 2, 'chave 3': [1, 2, 3]}"
      ]
     },
     "execution_count": 17,
     "metadata": {},
     "output_type": "execute_result"
    }
   ],
   "source": [
    "meu_dict = {\"chave 1\": \"valor 1\", \"chave 2\": 2, \"chave 3\": [1,2,3]}\n",
    "meu_dict"
   ]
  },
  {
   "cell_type": "code",
   "execution_count": 21,
   "metadata": {},
   "outputs": [
    {
     "data": {
      "text/plain": [
       "(1, 'dois', 3.0)"
      ]
     },
     "execution_count": 21,
     "metadata": {},
     "output_type": "execute_result"
    }
   ],
   "source": [
    "minha_tupla = (1,\"dois\",3.0)\n",
    "minha_lista = [1,\"dois\",3.0]"
   ]
  },
  {
   "cell_type": "code",
   "execution_count": 22,
   "metadata": {},
   "outputs": [
    {
     "data": {
      "text/plain": [
       "[1, 2, 3.0]"
      ]
     },
     "execution_count": 22,
     "metadata": {},
     "output_type": "execute_result"
    }
   ],
   "source": [
    "minha_lista[1] = 2\n",
    "minha_lista"
   ]
  },
  {
   "cell_type": "code",
   "execution_count": 23,
   "metadata": {},
   "outputs": [
    {
     "ename": "TypeError",
     "evalue": "'tuple' object does not support item assignment",
     "output_type": "error",
     "traceback": [
      "\u001b[0;31m---------------------------------------------------------------------------\u001b[0m",
      "\u001b[0;31mTypeError\u001b[0m                                 Traceback (most recent call last)",
      "Cell \u001b[0;32mIn[23], line 1\u001b[0m\n\u001b[0;32m----> 1\u001b[0m \u001b[43mminha_tupla\u001b[49m\u001b[43m[\u001b[49m\u001b[38;5;241;43m1\u001b[39;49m\u001b[43m]\u001b[49m \u001b[38;5;241m=\u001b[39m \u001b[38;5;241m2\u001b[39m\n\u001b[1;32m      2\u001b[0m minha_tupla\n",
      "\u001b[0;31mTypeError\u001b[0m: 'tuple' object does not support item assignment"
     ]
    }
   ],
   "source": [
    "minha_tupla[1] = 2\n",
    "minha_tupla #imutável"
   ]
  },
  {
   "cell_type": "code",
   "execution_count": 24,
   "metadata": {},
   "outputs": [
    {
     "data": {
      "text/plain": [
       "{1, 2, 3, 4, 5}"
      ]
     },
     "execution_count": 24,
     "metadata": {},
     "output_type": "execute_result"
    }
   ],
   "source": [
    "meu_set = {1,2,2,3,4,5,2}\n",
    "meu_set"
   ]
  },
  {
   "cell_type": "code",
   "execution_count": 25,
   "metadata": {},
   "outputs": [
    {
     "name": "stdout",
     "output_type": "stream",
     "text": [
      "{1, 2, 3, 4, 5}\n",
      "[1, 2, 3, 4, 5]\n",
      "(1, 2, 3, 4, 5)\n"
     ]
    }
   ],
   "source": [
    "agora_lista = list(meu_set)\n",
    "agora_tupla = tuple(meu_set)\n",
    "print(meu_set)\n",
    "print(agora_lista)\n",
    "print(agora_tupla)"
   ]
  },
  {
   "cell_type": "code",
   "execution_count": 28,
   "metadata": {},
   "outputs": [
    {
     "name": "stdout",
     "output_type": "stream",
     "text": [
      "[1, 2, 3]\n",
      "1\n",
      "2\n",
      "b\n"
     ]
    }
   ],
   "source": [
    "minha_lista2 = [[1,2,3],'b','c']\n",
    "print(minha_lista2[0])\n",
    "print(minha_lista2[0][0])\n",
    "print(minha_lista2[0][1])\n",
    "print(minha_lista2[1])"
   ]
  },
  {
   "cell_type": "code",
   "execution_count": 30,
   "metadata": {},
   "outputs": [
    {
     "data": {
      "text/plain": [
       "[(1, 2, 3), [0, 5, 6]]"
      ]
     },
     "execution_count": 30,
     "metadata": {},
     "output_type": "execute_result"
    }
   ],
   "source": [
    "minha_tupla = [(1,2,3),[4,5,6]]\n",
    "minha_tupla[1][0] = 0\n",
    "minha_tupla"
   ]
  },
  {
   "cell_type": "markdown",
   "metadata": {},
   "source": [
    "## Principais operações com String"
   ]
  },
  {
   "cell_type": "markdown",
   "metadata": {},
   "source": [
    "- Concatenação: **+**\n",
    "\n",
    "- Indexação: fatiar uma string em partes menores.\n",
    "\n",
    "- Replace: substituir um caractere ou uma sequência de caracteres em uma string.\n",
    "\n",
    "- Strip: remover espaçoes em branco e caracteres especiais do início e fim de uma string.\n",
    "\n",
    "- Split: dividir uma string em uma lista de substrings utilizando um separador específico.\n",
    "\n",
    "- upper() e lower()"
   ]
  },
  {
   "cell_type": "markdown",
   "metadata": {},
   "source": [
    "## Exercício"
   ]
  },
  {
   "cell_type": "markdown",
   "metadata": {},
   "source": [
    "Crie uma variével chamada saldo e atribua o valor de 950,60. Em seguida, pergunte ao usuário quanto dinheiro ele deseja sacar e armazene a resposta em uma variável chamada saque. Subtraia o valor de saque do valor de saldo e imprima a mensagem \"Seu novo saldo é {saldo}."
   ]
  },
  {
   "cell_type": "code",
   "execution_count": 35,
   "metadata": {},
   "outputs": [
    {
     "name": "stdout",
     "output_type": "stream",
     "text": [
      "Seu novo saldo é: 450.6\n"
     ]
    }
   ],
   "source": [
    "saldo = 950.60\n",
    "\n",
    "saque = input(\"Quanto deseja sacar?\")\n",
    "\n",
    "saldo = saldo - float(saque)\n",
    "\n",
    "print(f\"Seu novo saldo é: {saldo}\")"
   ]
  },
  {
   "cell_type": "markdown",
   "metadata": {},
   "source": [
    "Faça um programa que crie uma lista com 5 frutas e permita que o usuário digite o nome de uma fruta. Se for uma fruta repetida deverá ser desconsiderada."
   ]
  },
  {
   "cell_type": "code",
   "execution_count": 42,
   "metadata": {},
   "outputs": [
    {
     "name": "stdout",
     "output_type": "stream",
     "text": [
      "{'maca,maca,banana,uva,pera'}\n"
     ]
    }
   ],
   "source": [
    "fruta1 = input(\"Fruta 1\")\n",
    "fruta2 = input(\"Fruta 2\")\n",
    "fruta3 = input(\"Fruta 3\")\n",
    "fruta4 = input(\"Fruta 4\")\n",
    "fruta5 = input(\"Fruta 5\")\n",
    "\n",
    "set_frutas = {f\"{fruta1},{fruta2},{fruta3},{fruta4},{fruta5}\"}\n",
    "print(set_frutas)\n"
   ]
  },
  {
   "cell_type": "code",
   "execution_count": 43,
   "metadata": {},
   "outputs": [
    {
     "data": {
      "text/plain": [
       "{'maca,maca,banana,uva,pera'}"
      ]
     },
     "execution_count": 43,
     "metadata": {},
     "output_type": "execute_result"
    }
   ],
   "source": [
    "set_frutas"
   ]
  },
  {
   "cell_type": "markdown",
   "metadata": {},
   "source": [
    "Faça um programa que peça ao usuário para digitar uma frase e substitua todas as vogais por asteriscos."
   ]
  },
  {
   "cell_type": "code",
   "execution_count": 49,
   "metadata": {},
   "outputs": [
    {
     "name": "stdout",
     "output_type": "stream",
     "text": [
      "** t* *m*\n"
     ]
    }
   ],
   "source": [
    "frase = input(\"Digite uma frase:\")\n",
    "\n",
    "char_list = [\"a\",\"e\",\"i\",\"o\",\"u\"]\n",
    "\n",
    "for char in char_list:  \n",
    "    frase = frase.lower().replace(char,\"*\")\n",
    "\n",
    "print(frase)"
   ]
  },
  {
   "cell_type": "code",
   "execution_count": null,
   "metadata": {},
   "outputs": [],
   "source": []
  },
  {
   "cell_type": "code",
   "execution_count": null,
   "metadata": {},
   "outputs": [],
   "source": []
  },
  {
   "cell_type": "markdown",
   "metadata": {},
   "source": [
    "Exercício 1"
   ]
  },
  {
   "cell_type": "code",
   "execution_count": 53,
   "metadata": {},
   "outputs": [
    {
     "name": "stdout",
     "output_type": "stream",
     "text": [
      "O número é par\n"
     ]
    }
   ],
   "source": [
    "numero = int(input(\"Escreva um número: \"))\n",
    "\n",
    "if numero % 2 == 0:\n",
    "    print(\"O número é par\")\n",
    "else: print(\"O número é ímpar\")"
   ]
  },
  {
   "cell_type": "markdown",
   "metadata": {},
   "source": [
    "Exercício 2"
   ]
  },
  {
   "cell_type": "code",
   "execution_count": 63,
   "metadata": {},
   "outputs": [
    {
     "name": "stdout",
     "output_type": "stream",
     "text": [
      "Palavra: eu  - Número de caracteres:  2\n",
      "Palavra: te  - Número de caracteres:  2\n",
      "Palavra: amo  - Número de caracteres:  3\n"
     ]
    }
   ],
   "source": [
    "frase = input(\"Escreva uma frase: \")\n",
    "nova_frase = frase.split(\" \")\n",
    "\n",
    "for i in nova_frase:\n",
    "   print(\"Palavra:\",i, \" - Número de caracteres: \", len(i))"
   ]
  },
  {
   "cell_type": "markdown",
   "metadata": {},
   "source": [
    "Exercício 3"
   ]
  },
  {
   "cell_type": "code",
   "execution_count": 66,
   "metadata": {},
   "outputs": [
    {
     "name": "stdout",
     "output_type": "stream",
     "text": [
      "Senha correta!\n"
     ]
    }
   ],
   "source": [
    "senha = int(input(\"Insira uma senha de 4 dígitos: \"))\n",
    "\n",
    "if senha != 1234:\n",
    "    senha = int(input(\"Insira uma senha de 4 dígitos: \"))\n",
    "else: \n",
    "    print(\"Senha correta!\")"
   ]
  },
  {
   "cell_type": "markdown",
   "metadata": {},
   "source": [
    "Exercício 4"
   ]
  },
  {
   "cell_type": "code",
   "execution_count": null,
   "metadata": {},
   "outputs": [],
   "source": [
    "n = 3\n",
    "3*2*1\n",
    "i = 1\n",
    "for i <= n:\n",
    "    mult = n*(n-i)\n",
    "    print(fatorial)"
   ]
  },
  {
   "cell_type": "markdown",
   "metadata": {},
   "source": []
  }
 ],
 "metadata": {
  "kernelspec": {
   "display_name": "Python 3",
   "language": "python",
   "name": "python3"
  },
  "language_info": {
   "codemirror_mode": {
    "name": "ipython",
    "version": 3
   },
   "file_extension": ".py",
   "mimetype": "text/x-python",
   "name": "python",
   "nbconvert_exporter": "python",
   "pygments_lexer": "ipython3",
   "version": "3.9.6"
  }
 },
 "nbformat": 4,
 "nbformat_minor": 2
}
