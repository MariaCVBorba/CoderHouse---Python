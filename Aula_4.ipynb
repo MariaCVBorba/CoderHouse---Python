{
 "cells": [
  {
   "cell_type": "code",
   "execution_count": 1,
   "metadata": {},
   "outputs": [],
   "source": [
    "import plyer"
   ]
  },
  {
   "cell_type": "code",
   "execution_count": 3,
   "metadata": {},
   "outputs": [],
   "source": [
    "from plyer import notification\n",
    "notification.notify(\n",
    "     title='Título da notificação',\n",
    "     message='Mensagem da notificação',\n",
    "     app_name='Nome do aplicativo',\n",
    "     timeout=10 )"
   ]
  },
  {
   "cell_type": "code",
   "execution_count": 22,
   "metadata": {},
   "outputs": [],
   "source": [
    "def alerta(nivel,base,etapa):\n",
    "    if nivel == 1:\n",
    "        notification.notify(\n",
    "     title='Alerta Baixo',\n",
    "     message='Falha no carregamento da base {nivel} na etapa {etapa}',\n",
    "     app_name='Nome do aplicativo',\n",
    "     timeout=10 )\n",
    "     "
   ]
  },
  {
   "cell_type": "code",
   "execution_count": 21,
   "metadata": {},
   "outputs": [],
   "source": [
    "alerta(nivel = 1,\n",
    "base = \"clientes\",\n",
    "etapa = \"extracao\")"
   ]
  },
  {
   "cell_type": "code",
   "execution_count": null,
   "metadata": {},
   "outputs": [],
   "source": []
  }
 ],
 "metadata": {
  "kernelspec": {
   "display_name": "Python 3",
   "language": "python",
   "name": "python3"
  },
  "language_info": {
   "codemirror_mode": {
    "name": "ipython",
    "version": 3
   },
   "file_extension": ".py",
   "mimetype": "text/x-python",
   "name": "python",
   "nbconvert_exporter": "python",
   "pygments_lexer": "ipython3",
   "version": "3.12.1"
  }
 },
 "nbformat": 4,
 "nbformat_minor": 2
}
